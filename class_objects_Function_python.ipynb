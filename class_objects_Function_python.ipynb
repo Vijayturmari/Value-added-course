{
 "cells": [
  {
   "cell_type": "code",
   "execution_count": null,
   "id": "0c0b7a34",
   "metadata": {},
   "outputs": [],
   "source": [
    "#Python is an object oriented programming\n",
    "# class and objects-attributes-Variables, Behavior-Methods(Functions)\n",
    "# Almost everything in python is an object with its properties and methods\n",
    "# A class is like an object constructor,its a \"blueprint\" for creating objects"
   ]
  },
  {
   "cell_type": "code",
   "execution_count": 1,
   "id": "6d2864d0",
   "metadata": {},
   "outputs": [],
   "source": [
    "# Let us create a class\n",
    "class Myclass:\n",
    "  x=5         \n",
    "    "
   ]
  },
  {
   "cell_type": "code",
   "execution_count": 2,
   "id": "e9f1be4a",
   "metadata": {},
   "outputs": [
    {
     "name": "stdout",
     "output_type": "stream",
     "text": [
      "5\n"
     ]
    }
   ],
   "source": [
    "# Let us create an object\n",
    "#p1 is an object\n",
    "p1= Myclass()\n",
    "print(p1.x)"
   ]
  },
  {
   "cell_type": "code",
   "execution_count": 3,
   "id": "f17e939d",
   "metadata": {},
   "outputs": [
    {
     "data": {
      "text/plain": [
       "5"
      ]
     },
     "execution_count": 3,
     "metadata": {},
     "output_type": "execute_result"
    }
   ],
   "source": [
    "p1.x"
   ]
  },
  {
   "cell_type": "code",
   "execution_count": 4,
   "id": "9c12f05f",
   "metadata": {},
   "outputs": [
    {
     "name": "stdout",
     "output_type": "stream",
     "text": [
      "5\n"
     ]
    }
   ],
   "source": [
    "p2=Myclass()\n",
    "print(p2.x)"
   ]
  },
  {
   "cell_type": "code",
   "execution_count": 5,
   "id": "06e48fd7",
   "metadata": {},
   "outputs": [
    {
     "name": "stdout",
     "output_type": "stream",
     "text": [
      "5\n"
     ]
    }
   ],
   "source": [
    "p3=Myclass()\n",
    "print(p3.x)"
   ]
  },
  {
   "cell_type": "code",
   "execution_count": 7,
   "id": "9f8578a3",
   "metadata": {},
   "outputs": [],
   "source": [
    "# Let us take another example\n",
    "#myCar is class name, Under the class\n",
    "#i have created an object called \"Honda\"( Attributes and methods)\n",
    "# Object name called car1\n",
    "class myCar:\n",
    "    carName= \"Honda\"\n",
    "    List=[10,20,30,40]\n",
    "car1=myCar()"
   ]
  },
  {
   "cell_type": "code",
   "execution_count": 8,
   "id": "b4d2d5b7",
   "metadata": {},
   "outputs": [
    {
     "name": "stdout",
     "output_type": "stream",
     "text": [
      "Honda\n"
     ]
    }
   ],
   "source": [
    "print(car1.carName)"
   ]
  },
  {
   "cell_type": "code",
   "execution_count": 9,
   "id": "cc6de38c",
   "metadata": {},
   "outputs": [
    {
     "name": "stdout",
     "output_type": "stream",
     "text": [
      "[10, 20, 30, 40]\n"
     ]
    }
   ],
   "source": [
    "print(car1.List)"
   ]
  },
  {
   "cell_type": "code",
   "execution_count": 10,
   "id": "75ae266d",
   "metadata": {},
   "outputs": [
    {
     "name": "stdout",
     "output_type": "stream",
     "text": [
      "Honda\n",
      "Civic\n"
     ]
    }
   ],
   "source": [
    "class myCar:\n",
    "    carName= \"Honda\"\n",
    "    carType=\"Civic\"\n",
    "car1=myCar()\n",
    "print(car1.carName)\n",
    "print(car1.carType)"
   ]
  },
  {
   "cell_type": "code",
   "execution_count": 11,
   "id": "d9cdf637",
   "metadata": {},
   "outputs": [
    {
     "name": "stdout",
     "output_type": "stream",
     "text": [
      "Honda\n",
      "Civic\n",
      "Honda\n",
      "Civic\n"
     ]
    }
   ],
   "source": [
    "class myCar:\n",
    "    carName= \"Honda\"\n",
    "    carType=\"Civic\"\n",
    "car1=myCar()\n",
    "car2=myCar()\n",
    "print(car1.carName)\n",
    "print(car1.carType)\n",
    "print(car2.carName)\n",
    "print(car2.carType)"
   ]
  },
  {
   "cell_type": "code",
   "execution_count": 12,
   "id": "2fd7f474",
   "metadata": {},
   "outputs": [],
   "source": [
    "# Function is a block which only runs when it is called\n",
    "# you can pass the data known as parameters,into a function\n",
    "# A function can return data as a result\n",
    "# Keyword used to define a function is def\n",
    "# Create a Function\n",
    "def my_function():\n",
    "    print(\" Hello I am from Bangalore\")\n",
    "    "
   ]
  },
  {
   "cell_type": "code",
   "execution_count": 13,
   "id": "48dad03e",
   "metadata": {},
   "outputs": [
    {
     "name": "stdout",
     "output_type": "stream",
     "text": [
      " Hello I am from Bangalore\n"
     ]
    }
   ],
   "source": [
    "my_function()"
   ]
  },
  {
   "cell_type": "code",
   "execution_count": 14,
   "id": "d7e80da1",
   "metadata": {},
   "outputs": [
    {
     "name": "stdout",
     "output_type": "stream",
     "text": [
      "we love coding\n"
     ]
    }
   ],
   "source": [
    "# print we love coding\n",
    "def my_python():\n",
    "    print(\"we love coding\")\n",
    "my_python()"
   ]
  },
  {
   "cell_type": "code",
   "execution_count": 16,
   "id": "fca4893c",
   "metadata": {},
   "outputs": [
    {
     "name": "stdout",
     "output_type": "stream",
     "text": [
      "gmail Reference\n",
      "yahoo Reference\n"
     ]
    }
   ],
   "source": [
    "# Arguments( Inthis example fname)\n",
    "#Information can be passed into functions as an arguments\n",
    "# Arguments are specified after function name inside paranthesis\n",
    "# You can add as many arguments you want to,just sepearate with comma\n",
    "def my_function(fname):\n",
    "    print(fname + \" Reference\")\n",
    "my_function(\"gmail\")\n",
    "my_function(\"yahoo\")"
   ]
  },
  {
   "cell_type": "code",
   "execution_count": 17,
   "id": "4779e8ff",
   "metadata": {},
   "outputs": [
    {
     "name": "stdout",
     "output_type": "stream",
     "text": [
      "Mumbai Metropolitan city\n",
      "Bangalore Metropolitan city\n",
      "Delhi Metropolitan city\n"
     ]
    }
   ],
   "source": [
    "#Reference - Metropolitan city\n",
    "#Mumbai,Bangalore, Delhi\n",
    "def my_function(fname):\n",
    "    print(fname + \" Metropolitan city\")\n",
    "my_function(\"Mumbai\")\n",
    "my_function(\"Bangalore\")\n",
    "my_function(\"Delhi\")"
   ]
  },
  {
   "cell_type": "code",
   "execution_count": 29,
   "id": "3d94e9b0",
   "metadata": {},
   "outputs": [],
   "source": [
    "class Computer:\n",
    "    def config(self):\n",
    "        print(\"i5,16gb,1TB\")\n",
    "com1=Computer()\n",
    "com2=Computer()\n",
    "#Class Name is Computer\n",
    "# Def is a Function Name, config is a Name of a Function\n",
    "#com1 and com2 objects"
   ]
  },
  {
   "cell_type": "code",
   "execution_count": 21,
   "id": "a0465fbb",
   "metadata": {},
   "outputs": [
    {
     "name": "stdout",
     "output_type": "stream",
     "text": [
      "i5,16gb,1TB\n",
      "i5,16gb,1TB\n"
     ]
    }
   ],
   "source": [
    "Computer.config(com1)\n",
    "Computer.config(com2)"
   ]
  },
  {
   "cell_type": "code",
   "execution_count": 30,
   "id": "06ef7178",
   "metadata": {},
   "outputs": [],
   "source": [
    "# CONFIGURATION I6,64GB,CALL THREE DIFFERENT OBJECTS"
   ]
  },
  {
   "cell_type": "code",
   "execution_count": 34,
   "id": "4c5f7186",
   "metadata": {},
   "outputs": [
    {
     "name": "stdout",
     "output_type": "stream",
     "text": [
      "I6,64gb\n",
      "I6,64gb\n",
      "I6,64gb\n"
     ]
    }
   ],
   "source": [
    "class Computer:\n",
    "    def config(self):\n",
    "        print(\"I6,64gb\")\n",
    "com1=Computer()\n",
    "com2=Computer()\n",
    "com3=Computer()\n",
    "com1.config()\n",
    "com2.config()\n",
    "com3.config()\n",
    "# Self represents the instance of class used in python\n",
    "# Handy keyword allows you access variables, attributes and methods of a defined class in Python"
   ]
  },
  {
   "cell_type": "code",
   "execution_count": null,
   "id": "d242689f",
   "metadata": {},
   "outputs": [],
   "source": []
  }
 ],
 "metadata": {
  "kernelspec": {
   "display_name": "Python 3 (ipykernel)",
   "language": "python",
   "name": "python3"
  },
  "language_info": {
   "codemirror_mode": {
    "name": "ipython",
    "version": 3
   },
   "file_extension": ".py",
   "mimetype": "text/x-python",
   "name": "python",
   "nbconvert_exporter": "python",
   "pygments_lexer": "ipython3",
   "version": "3.11.5"
  }
 },
 "nbformat": 4,
 "nbformat_minor": 5
}
